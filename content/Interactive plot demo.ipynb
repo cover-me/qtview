{
  "metadata": {
    "kernelspec": {
      "name": "python",
      "display_name": "Pyolite",
      "language": "python"
    },
    "language_info": {
      "codemirror_mode": {
        "name": "python",
        "version": 3
      },
      "file_extension": ".py",
      "mimetype": "text/x-python",
      "name": "python",
      "nbconvert_exporter": "python",
      "pygments_lexer": "ipython3",
      "version": "3.8"
    }
  },
  "nbformat_minor": 5,
  "nbformat": 4,
  "cells": [
    {
      "cell_type": "markdown",
      "source": "# Run all cells to see the demo",
      "metadata": {},
      "id": "baee5098-872c-492a-a9ca-5d7209dc3ce7"
    },
    {
      "cell_type": "code",
      "source": "import sys\nif 'pyolite' in sys.modules:# In JupyterLite instead of JupyterLab\n    import os, piplite\n    from pyodide.http import pyfetch\n    sys.path.append('./')\n    async def download_qtview():\n        url_base = 'https://raw.githubusercontent.com/cover-me/qtview/main/content/'\n        file_list = ['qtview/__init__.py','qtview/data.py','qtview/interact.py','qtview/operation.py','qtview/plot.py','qtview/jupyterlitetools.py','test.dat']\n        for i in file_list:\n            url = url_base + i\n            folder, _ = os.path.split(i)\n            if folder and not os.path.exists(folder): os.makedirs(folder)\n            response = await pyfetch(url)\n            with open(i,'w') as f:\n                f.write(await response.string())\n    await download_qtview()\n    await piplite.install(['ipywidgets','ipympl'])\n    from qtview import jupyterlitetools\n\nfrom qtview import data,plot,interact\n%matplotlib widget",
      "metadata": {
        "trusted": true
      },
      "execution_count": null,
      "outputs": [],
      "id": "6c5da7aa-5954-487e-988b-b2e09fb22a95"
    },
    {
      "cell_type": "markdown",
      "source": "# Interactive plot\n\nThe program automatically detects data files in \"current working folder\". You can upload your files and re-run this cell to get a new list.",
      "metadata": {
        "tags": []
      },
      "id": "dcde87fe-f733-45e1-8477-63544d5b6986"
    },
    {
      "cell_type": "code",
      "source": "# See more cells below for uploading data files\np = interact.Player()",
      "metadata": {
        "trusted": true
      },
      "execution_count": null,
      "outputs": [],
      "id": "f4c7bf23-2204-481e-8f3a-3cd3365134bc"
    },
    {
      "cell_type": "markdown",
      "source": "# Upload files in JupyterLab\n\nDrag and drop files to the \"file browser\" on the left (you may need to click the \"folder\" icon).",
      "metadata": {},
      "id": "9f0c646c-244b-48e1-ad48-237ff9eedeb4"
    },
    {
      "cell_type": "markdown",
      "source": "# Upload files in JupyterLite\n\n1. Drag and drop files to the file browser on the left (you may need to click the \"folder\" icon).\n\n2. Run the cell below to dump all data files into the virtual file system (in memory).",
      "metadata": {},
      "id": "bb47f481-9947-4770-b835-93b6fa323037"
    },
    {
      "cell_type": "code",
      "source": "# exts = ['.npy','.dat','.mtx']\n# file_list = [i for i in await jupyterlitetools.list_browser_files() if i[-4:] in exts]\n# for i in file_list:\n#     print(i)\n#     await jupyterlitetools.browser_to_mem(b_path=i,mem_path=i,overwrite=True)",
      "metadata": {
        "trusted": true
      },
      "execution_count": null,
      "outputs": [],
      "id": "0c93c0e9-8b2d-4e5c-bd92-7b08f0d7166a"
    },
    {
      "cell_type": "code",
      "source": "# os.listdir()",
      "metadata": {
        "trusted": true
      },
      "execution_count": null,
      "outputs": [],
      "id": "5e70afa3-9e61-4814-a5c1-9c1412926685"
    },
    {
      "cell_type": "markdown",
      "source": "## Download files from Zenodo\n\nSee the notebook \"Plot Zenodo files.ipynb\"",
      "metadata": {},
      "id": "a0257944-a742-4511-a644-8de3c4a60589"
    },
    {
      "cell_type": "code",
      "source": "",
      "metadata": {},
      "execution_count": null,
      "outputs": [],
      "id": "bb4d3b83-87c9-4ffc-9a05-c843f3270b40"
    }
  ]
}