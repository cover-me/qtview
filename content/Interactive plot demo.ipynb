{
 "cells": [
  {
   "cell_type": "markdown",
   "id": "baee5098-872c-492a-a9ca-5d7209dc3ce7",
   "metadata": {},
   "source": [
    "# Run all cells to see the demo"
   ]
  },
  {
   "cell_type": "code",
   "execution_count": null,
   "id": "f2d518f1-a9da-4de4-aee8-fd458f36f6ee",
   "metadata": {},
   "outputs": [],
   "source": [
    "# Download qtview files to the kernel (in memory) if in JupyterLite\n",
    "import sys\n",
    "if 'pyolite' in sys.modules:\n",
    "    from pyodide.http import pyfetch\n",
    "    exec(await (await pyfetch(\"https://raw.githubusercontent.com/cover-me/qtview/main/content/utils/download_qtview.py\")).string())\n",
    "    await download_qtview()"
   ]
  },
  {
   "cell_type": "code",
   "execution_count": null,
   "id": "334c3877-bf0e-4603-bfff-a04e5ee35f60",
   "metadata": {},
   "outputs": [],
   "source": [
    "from qtview import interact\n",
    "from utils import jupyterlitetools\n",
    "%matplotlib widget"
   ]
  },
  {
   "cell_type": "markdown",
   "id": "dcde87fe-f733-45e1-8477-63544d5b6986",
   "metadata": {
    "tags": []
   },
   "source": [
    "# Interactive plot"
   ]
  },
  {
   "cell_type": "markdown",
   "id": "77291e40-02ed-4e15-ae93-81251c102fef",
   "metadata": {},
   "source": [
    "The program automatically detects data files in \"current working folder\". You can upload your files and re-run this cell to refresh the list."
   ]
  },
  {
   "cell_type": "code",
   "execution_count": null,
   "id": "f4c7bf23-2204-481e-8f3a-3cd3365134bc",
   "metadata": {},
   "outputs": [],
   "source": [
    "# See more cells below for uploading data files\n",
    "p = interact.Player()"
   ]
  },
  {
   "cell_type": "markdown",
   "id": "bb47f481-9947-4770-b835-93b6fa323037",
   "metadata": {},
   "source": [
    "# Upload files in JupyterLite\n",
    "\n",
    "It appears that if we drag and drop files to the file browser on the left, files would get truncated if they are large. We need to wait until this issue gets solved by JupyterLite people. Now we can download files from Zenodo (see another notebook), or use JupyterLab or Binder.\n",
    "\n",
    "<del> Files in the file broswer (on the left) and files in the kernel (not visible) do not sync in JupyterLite at this moment. We have to load files to the kernel manually. </del>\n",
    "\n",
    "<del> 1. Drag and drop files to the file browser on the left (you may need to click the \"folder\" icon).</del>\n",
    "\n",
    "<del> 2. Uncomment and run the cell below to dump all data files into the virtual file system (in memory).</del>"
   ]
  },
  {
   "cell_type": "code",
   "execution_count": null,
   "id": "0c93c0e9-8b2d-4e5c-bd92-7b08f0d7166a",
   "metadata": {},
   "outputs": [],
   "source": [
    "# import os\n",
    "# exts = ['.npy','.dat','.mtx']\n",
    "# file_list = [i for i in await jupyterlitetools.list_browser_files() if i[-4:] in exts]\n",
    "# for i in file_list:\n",
    "#     await jupyterlitetools.browser_to_mem(b_path=i,mem_path=i,overwrite=True)\n",
    "# os.listdir()"
   ]
  },
  {
   "cell_type": "markdown",
   "id": "81874035-2248-41b1-9130-f409e56ca5de",
   "metadata": {},
   "source": [
    "# Upload files in JupyterLab or Binder"
   ]
  },
  {
   "cell_type": "markdown",
   "id": "adf5f4d8-a73d-444c-bddd-a98fb3b6073e",
   "metadata": {},
   "source": [
    "Drag and drop files to the file browser on the left (you may need to click the \"folder\" icon)"
   ]
  },
  {
   "cell_type": "code",
   "execution_count": null,
   "id": "2bf6870b-7f10-4f5d-bff4-b8aa4ab49589",
   "metadata": {},
   "outputs": [],
   "source": []
  }
 ],
 "metadata": {
  "kernelspec": {
   "display_name": "Python 3 (ipykernel)",
   "language": "python",
   "name": "python3"
  },
  "language_info": {
   "codemirror_mode": {
    "name": "ipython",
    "version": 3
   },
   "file_extension": ".py",
   "mimetype": "text/x-python",
   "name": "python",
   "nbconvert_exporter": "python",
   "pygments_lexer": "ipython3",
   "version": "3.7.12"
  }
 },
 "nbformat": 4,
 "nbformat_minor": 5
}
