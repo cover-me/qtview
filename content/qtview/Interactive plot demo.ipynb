{
  "metadata": {
    "kernelspec": {
      "name": "python",
      "display_name": "Pyolite",
      "language": "python"
    },
    "language_info": {
      "codemirror_mode": {
        "name": "python",
        "version": 3
      },
      "file_extension": ".py",
      "mimetype": "text/x-python",
      "name": "python",
      "nbconvert_exporter": "python",
      "pygments_lexer": "ipython3",
      "version": "3.8"
    }
  },
  "nbformat_minor": 5,
  "nbformat": 4,
  "cells": [
    {
      "cell_type": "markdown",
      "source": "# Run all cells to see the demo",
      "metadata": {},
      "id": "baee5098-872c-492a-a9ca-5d7209dc3ce7"
    },
    {
      "cell_type": "code",
      "source": "# Download qtview files to the kernel (in memory) if in JupyterLite\nimport sys\nif 'pyolite' in sys.modules:\n    from pyodide.http import pyfetch\n    exec(await (await pyfetch(\"https://raw.githubusercontent.com/cover-me/qtview/main/content/utils/download_qtview.py\")).string())\n    await download_qtview()",
      "metadata": {
        "trusted": true
      },
      "execution_count": null,
      "outputs": [],
      "id": "f2d518f1-a9da-4de4-aee8-fd458f36f6ee"
    },
    {
      "cell_type": "code",
      "source": "from qtview import interact\nfrom utils import jupyterlitetools\n%matplotlib widget",
      "metadata": {
        "trusted": true
      },
      "execution_count": null,
      "outputs": [],
      "id": "334c3877-bf0e-4603-bfff-a04e5ee35f60"
    },
    {
      "cell_type": "markdown",
      "source": "# Interactive plot",
      "metadata": {
        "tags": []
      },
      "id": "dcde87fe-f733-45e1-8477-63544d5b6986"
    },
    {
      "cell_type": "markdown",
      "source": "The program automatically detects data files in \"current working folder\". You can upload your files and re-run this cell to get a new list.",
      "metadata": {},
      "id": "77291e40-02ed-4e15-ae93-81251c102fef"
    },
    {
      "cell_type": "code",
      "source": "# See more cells below for uploading data files\np = interact.Player()",
      "metadata": {
        "trusted": true
      },
      "execution_count": null,
      "outputs": [],
      "id": "f4c7bf23-2204-481e-8f3a-3cd3365134bc"
    },
    {
      "cell_type": "markdown",
      "source": "# Upload files in JupyterLite\n\nIt appears that if we drag and drop files to the file browser on the left, files would get truncated if they are large. We need to wait until this issue gets solved by JupyterLite people. Now we can download files from Zenodo (see another notebook), or use JupyterLab or Binder.\n\n<del> Files in the file broswer (on the left) and files in the kernel (not visible) do not sync in JupyterLite at this moment. We have to load files to the kernel manually. </del>\n\n<del> 1. Drag and drop files to the file browser on the left (you may need to click the \"folder\" icon).</del>\n\n<del> 2. Uncomment and run the cell below to dump all data files into the virtual file system (in memory).</del>",
      "metadata": {},
      "id": "bb47f481-9947-4770-b835-93b6fa323037"
    },
    {
      "cell_type": "code",
      "source": "# import os\n# exts = ['.npy','.dat','.mtx']\n# file_list = [i for i in await jupyterlitetools.list_browser_files() if i[-4:] in exts]\n# for i in file_list:\n#     await jupyterlitetools.browser_to_mem(b_path=i,mem_path=i,overwrite=True)\n# os.listdir()",
      "metadata": {
        "trusted": true
      },
      "execution_count": null,
      "outputs": [],
      "id": "0c93c0e9-8b2d-4e5c-bd92-7b08f0d7166a"
    },
    {
      "cell_type": "code",
      "source": "",
      "metadata": {},
      "execution_count": null,
      "outputs": [],
      "id": "dee564d5-d46b-463f-8bd4-afa04292c484"
    }
  ]
}