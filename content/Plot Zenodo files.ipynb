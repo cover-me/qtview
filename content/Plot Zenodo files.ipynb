{
 "cells": [
  {
   "cell_type": "code",
   "execution_count": null,
   "metadata": {},
   "outputs": [],
   "source": [
    "# Download qtview files to the kernel (in memory) if in JupyterLite\n",
    "import sys,os,zipfile\n",
    "if 'pyolite' in sys.modules:\n",
    "    from pyodide.http import pyfetch\n",
    "    exec(await (await pyfetch(\"https://raw.githubusercontent.com/cover-me/qtview/main/content/utils/download_qtview.py\")).string())\n",
    "    await download_qtview()"
   ]
  },
  {
   "cell_type": "code",
   "execution_count": null,
   "metadata": {},
   "outputs": [],
   "source": [
    "from qtview import *\n",
    "import utils.jupyterlitetools as jpltools\n",
    "%matplotlib widget"
   ]
  },
  {
   "cell_type": "code",
   "execution_count": null,
   "metadata": {},
   "outputs": [],
   "source": [
    "record_id = 4446186\n",
    "file_name = 'Paper Figures.zip'\n",
    "if 'pyolite' in sys.modules:\n",
    "    await jpltools.zenodo_downloader(record_id,file_name)\n",
    "else:\n",
    "    jpltools.zenodo_downloader(record_id,file_name)"
   ]
  },
  {
   "cell_type": "code",
   "execution_count": null,
   "metadata": {},
   "outputs": [],
   "source": [
    "zf = zipfile.ZipFile(file_name)\n",
    "datafile_list = [f'{file_name}/{i}' for i in zf.namelist() if os.path.splitext(i)[1] in ['.npy','.dat','.mtx']]"
   ]
  },
  {
   "cell_type": "code",
   "execution_count": null,
   "metadata": {},
   "outputs": [],
   "source": [
    "p = interact.Player(file_list=datafile_list)"
   ]
  },
  {
   "cell_type": "code",
   "execution_count": null,
   "metadata": {},
   "outputs": [],
   "source": []
  }
 ],
 "metadata": {
  "kernelspec": {
   "display_name": "Python 3 (ipykernel)",
   "language": "python",
   "name": "python3"
  },
  "language_info": {
   "codemirror_mode": {
    "name": "ipython",
    "version": 3
   },
   "file_extension": ".py",
   "mimetype": "text/x-python",
   "name": "python",
   "nbconvert_exporter": "python",
   "pygments_lexer": "ipython3",
   "version": "3.7.12"
  }
 },
 "nbformat": 4,
 "nbformat_minor": 4
}
