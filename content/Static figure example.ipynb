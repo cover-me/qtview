{
  "metadata": {
    "language_info": {
      "codemirror_mode": {
        "name": "python",
        "version": 3
      },
      "file_extension": ".py",
      "mimetype": "text/x-python",
      "name": "python",
      "nbconvert_exporter": "python",
      "pygments_lexer": "ipython3",
      "version": "3.8"
    },
    "kernelspec": {
      "name": "python",
      "display_name": "Pyolite",
      "language": "python"
    }
  },
  "nbformat_minor": 4,
  "nbformat": 4,
  "cells": [
    {
      "cell_type": "code",
      "source": "# Load modules\n# in JupyterLite\n\nimport os,sys,piplite\nfrom pyodide.http import pyfetch\n\nsys.path.append('./')\n\nasync def download_qtview():\n    url_base = 'https://raw.githubusercontent.com/cover-me/qtview/main/content/'\n    file_list = ['qtview/__init__.py','qtview/data.py','qtview/interact.py',\n                 'qtview/operation.py','qtview/plot.py','qtview/jupyterlitetools.py','test.dat']\n    for i in file_list:\n        # print(i)\n        url = url_base + i\n        folder, file_name = os.path.split(i)\n        if folder and not os.path.exists(folder): os.makedirs(folder)\n        response = await pyfetch(url)\n        with open(os.path.join(i),'w') as f:\n            f.write(await response.string())\n            f.close()\n\nawait download_qtview()\nawait piplite.install(['ipywidgets','ipympl'])\n\nfrom qtview import *\n%matplotlib inline",
      "metadata": {
        "trusted": true
      },
      "execution_count": null,
      "outputs": []
    },
    {
      "cell_type": "code",
      "source": "# Customize matplotlib\n\nimport matplotlib.pylab as plt\n\nplt.rcParams.update({\n    # Font, for SVG files\n    'font.family': 'Arial, Helvetica, sans-serif',\n    # 'font.sans-serif': ['Arial', 'sans-serif'],\n    'font.size': 8,\n    'svg.fonttype': 'none',\n    'axes.titlesize': 'medium',\n    'figure.titlesize': 'medium',\n    # Padding\n    'axes.labelpad': 1,\n    'axes.titlepad': 1,\n    'xtick.major.pad': 1,\n    'xtick.minor.pad': 1,\n    'ytick.major.pad': 1,\n    'ytick.minor.pad': 1,\n    \n    # Figure\n    'figure.dpi': 200, # 100, only affect Jupyter\n    'figure.figsize': (3.2, 1.5),\n    'savefig.dpi': 600,\n    'lines.linewidth': 1,\n    'axes.axisbelow': True,\n    # Ticks\n    'xtick.minor.visible': True,\n    'ytick.minor.visible': True,\n})",
      "metadata": {
        "trusted": true
      },
      "execution_count": null,
      "outputs": []
    },
    {
      "cell_type": "markdown",
      "source": "I set images and fonts in real-world units becasue they are more convenient for papers. For example, a paper usually has a font size 10 pt, and a column width 3.4 inch, not in pixels.\n\nOnce the physical dimensions are decided, I use DPI to control the number of pixels. The larger the DPI, the more the pixels, and the higher the resolution.\n\nDPI also controls the figure size on a screen if a physical size is not stored in the file, for example, PNG files generated in this notebook.\n\n\"figure.dpi\" controls the PNG figure on the notebook. \"savefig.dpi\" controls the SVG figure saved. \n\nWork with SVG because it is the default format for Inkscape. I combine panels, modify labels and generate PDF using Inkscape. Texts are easier to edit if no latex escapes (\"$\") are used in matplotlib.",
      "metadata": {}
    },
    {
      "cell_type": "code",
      "source": "fpath = \"./test.dat\"\nfig, ax = plt.subplots(figsize=(3,2))# the unit is inch\n\ndef foo(d):# data processing function, return [X,Y,Z]\n    # d = operation.yderiv(d)\n    return d\n\nkw = {'cook':foo,\n      'cols': [0,1,2],# which columns are used, can be more than 3\n      'labels':['x','y','z'],\n      'fig': fig, 'ax': ax,\n      'gamma':-30, 'vmin':0, 'vmax':0.4,\n     }\n\nplot.plot(fpath,**kw)\n\nfig_path = fpath.replace('.dat','.svg')\nplt.savefig(fig_path)",
      "metadata": {
        "trusted": true
      },
      "execution_count": null,
      "outputs": []
    },
    {
      "cell_type": "markdown",
      "source": "Show the saved SVG figure (in virtual file system in memory). A part of the figure is outside the convas but we are able to see it in Inkscape.",
      "metadata": {}
    },
    {
      "cell_type": "code",
      "source": "from IPython.display import SVG\nSVG(fig_path)",
      "metadata": {
        "trusted": true
      },
      "execution_count": null,
      "outputs": []
    },
    {
      "cell_type": "markdown",
      "source": "Copy the file from virtual file system to the file browser on the left so we can see and download it.",
      "metadata": {}
    },
    {
      "cell_type": "code",
      "source": "await jupyterlitetools.mem_to_browser(b_path=fig_path,mem_path=fig_path,overwrite=True)",
      "metadata": {
        "trusted": true
      },
      "execution_count": null,
      "outputs": []
    },
    {
      "cell_type": "code",
      "source": "# For debugging.\n# Update files and reload modules. \n# import importlib,qtview\n# for i in qtview.__all__:\n#     print(i)\n#     fpath = f'qtview/{i}.py'\n#     await jupyterlitetools.browser_to_mem(fpath,fpath,overwrite=True)\n#     importlib.reload(sys.modules[f'qtview.{i}'])\n#     print()",
      "metadata": {
        "trusted": true
      },
      "execution_count": null,
      "outputs": []
    },
    {
      "cell_type": "code",
      "source": "",
      "metadata": {},
      "execution_count": null,
      "outputs": []
    }
  ]
}