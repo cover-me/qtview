{
 "cells": [
  {
   "cell_type": "code",
   "execution_count": null,
   "id": "cd09f597-f23d-42a1-badd-1de5cd90b535",
   "metadata": {},
   "outputs": [],
   "source": [
    "# Run this cell if you are using JupyterLite\n",
    "import micropip\n",
    "package_url = \"https://raw.githubusercontent.com/cover-me/qtview/main/qtview-0.0.1-py3-none-any.whl\"\n",
    "await micropip.install(package_url)"
   ]
  },
  {
   "cell_type": "markdown",
   "id": "dcde87fe-f733-45e1-8477-63544d5b6986",
   "metadata": {
    "tags": []
   },
   "source": [
    "# Interactive plot"
   ]
  },
  {
   "cell_type": "code",
   "execution_count": null,
   "id": "241c3b94-27f8-4812-9161-cd7f2b617add",
   "metadata": {},
   "outputs": [],
   "source": [
    "from qtview import *\n",
    "%matplotlib widget\n",
    "\n",
    "fpath = \"./test.dat\"\n",
    "\n",
    "def foo(d):# data processing function, return [X,Y,Z]\n",
    "    # d = operation.yderiv(d)\n",
    "    return d\n",
    "\n",
    "kw = {'cook':foo,\n",
    "      'cols': [1,0,2],# which columns are used, can be more than 3\n",
    "      # 'labels':['x',',y','z'],\n",
    "     }\n",
    "\n",
    "p = interact.Player(fpath,**kw)"
   ]
  },
  {
   "cell_type": "markdown",
   "id": "133edbfa-76d8-40cf-8ad2-fdae39c970f3",
   "metadata": {},
   "source": [
    "# Static plot"
   ]
  },
  {
   "cell_type": "code",
   "execution_count": null,
   "id": "731c4b3c-ecd9-4b6f-974d-943b3873578a",
   "metadata": {},
   "outputs": [],
   "source": [
    "# %matplotlib inline\n",
    "import matplotlib.pylab as plt\n",
    "\n",
    "fpath = \"./test.dat\"\n",
    "fig, ax = plt.subplots(figsize=(4,3))\n",
    "\n",
    "def foo(d):# data processing function, return [X,Y,Z]\n",
    "    # d = operation.yderiv(d)\n",
    "    return d\n",
    "\n",
    "kw = {'cook':foo,\n",
    "      'cols': [1,0,2],# which columns are used, can be more than 3\n",
    "      'labels':['x',',y','z'],\n",
    "      'fig': fig, 'ax': ax,\n",
    "     }\n",
    "\n",
    "plot.plot(fpath,**kw)"
   ]
  },
  {
   "cell_type": "code",
   "execution_count": null,
   "id": "bf207104-ed3e-41a3-afae-254ec7693942",
   "metadata": {},
   "outputs": [],
   "source": []
  }
 ],
 "metadata": {
  "kernelspec": {
   "display_name": "Python 3 (ipykernel)",
   "language": "python",
   "name": "python3"
  },
  "language_info": {
   "codemirror_mode": {
    "name": "ipython",
    "version": 3
   },
   "file_extension": ".py",
   "mimetype": "text/x-python",
   "name": "python",
   "nbconvert_exporter": "python",
   "pygments_lexer": "ipython3",
   "version": "3.8.12"
  }
 },
 "nbformat": 4,
 "nbformat_minor": 5
}
