{
  "metadata": {
    "kernelspec": {
      "name": "python",
      "display_name": "Pyolite",
      "language": "python"
    },
    "language_info": {
      "codemirror_mode": {
        "name": "python",
        "version": 3
      },
      "file_extension": ".py",
      "mimetype": "text/x-python",
      "name": "python",
      "nbconvert_exporter": "python",
      "pygments_lexer": "ipython3",
      "version": "3.8"
    }
  },
  "nbformat_minor": 5,
  "nbformat": 4,
  "cells": [
    {
      "cell_type": "markdown",
      "source": "Run the following cell if you are using JupyterLite",
      "metadata": {},
      "id": "d2e46e11-f15f-4114-adad-dbadc9eb6f7e"
    },
    {
      "cell_type": "code",
      "source": "import piplite\npackage_url = \"https://raw.githubusercontent.com/cover-me/qtview/main/qtview-0.0.1-py3-none-any.whl\"\nawait piplite.install(package_url)\nawait piplite.install(['ipywidgets','ipympl'])\nfrom js import fetch\nimport os\n\nurl = 'https://raw.githubusercontent.com/cover-me/qtview/master/content/test.dat'\nres = await fetch(url)\ntext = await res.text()\nfpath = 'test.dat'\n\nwith open(fpath, 'w') as f:\n    f.write(text)\n\nprint('Files in current folder:')\nos.listdir()",
      "metadata": {
        "trusted": true
      },
      "execution_count": null,
      "outputs": [],
      "id": "6c5da7aa-5954-487e-988b-b2e09fb22a95"
    },
    {
      "cell_type": "markdown",
      "source": "# Interactive plot",
      "metadata": {
        "tags": []
      },
      "id": "dcde87fe-f733-45e1-8477-63544d5b6986"
    },
    {
      "cell_type": "code",
      "source": "from qtview import *\n%matplotlib widget\n\nfpath = \"test.dat\"\n\ndef foo(d):# data processing function, return [X,Y,Z]\n    # d = operation.yderiv(d)\n    return d\n\nkw = {'cook':foo,\n      'cols': [0,1,2],# which columns are used, can be more than 3\n      # 'labels':['x',',y','z'],\n     }\n\np = interact.Player(fpath,**kw)",
      "metadata": {
        "trusted": true
      },
      "execution_count": null,
      "outputs": [],
      "id": "f4c7bf23-2204-481e-8f3a-3cd3365134bc"
    },
    {
      "cell_type": "markdown",
      "source": "# Static plot",
      "metadata": {},
      "id": "133edbfa-76d8-40cf-8ad2-fdae39c970f3"
    },
    {
      "cell_type": "code",
      "source": "# %matplotlib inline\nimport matplotlib.pylab as plt\n\nfpath = \"./test.dat\"\nfig, ax = plt.subplots(figsize=(4,3))\n\ndef foo(d):# data processing function, return [X,Y,Z]\n    # d = operation.yderiv(d)\n    return d\n\nkw = {'cook':foo,\n      'cols': [0,1,2],# which columns are used, can be more than 3\n      'labels':['x',',y','z'],\n      'fig': fig, 'ax': ax,\n      'gamma':-30, 'vmin':0, 'vmax':0.4,\n     }\n\nplot.plot(fpath,**kw)",
      "metadata": {
        "trusted": true
      },
      "execution_count": null,
      "outputs": [],
      "id": "731c4b3c-ecd9-4b6f-974d-943b3873578a"
    },
    {
      "cell_type": "code",
      "source": "",
      "metadata": {},
      "execution_count": null,
      "outputs": [],
      "id": "bf207104-ed3e-41a3-afae-254ec7693942"
    }
  ]
}