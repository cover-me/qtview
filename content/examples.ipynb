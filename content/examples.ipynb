{
  "metadata": {
    "kernelspec": {
      "name": "python",
      "display_name": "Pyolite",
      "language": "python"
    },
    "language_info": {
      "codemirror_mode": {
        "name": "python",
        "version": 3
      },
      "file_extension": ".py",
      "mimetype": "text/x-python",
      "name": "python",
      "nbconvert_exporter": "python",
      "pygments_lexer": "ipython3",
      "version": "3.8"
    }
  },
  "nbformat_minor": 5,
  "nbformat": 4,
  "cells": [
    {
      "cell_type": "code",
      "source": "# Run in JupyterLite\nimport os,sys,piplite\nfrom pyodide.http import pyfetch\n\nsys.path.append('./')\n\nasync def download_qtview():\n    url_base = 'https://raw.githubusercontent.com/cover-me/qtview/main/content/'\n    file_list = ['qtview/__init__.py','qtview/data.py','qtview/interact.py',\n                 'qtview/operation.py','qtview/plot.py','qtview/jupyterlitetools.py','test.dat']\n    for i in file_list:\n        # print(i)\n        url = url_base + i\n        folder, file_name = os.path.split(i)\n        if folder and not os.path.exists(folder): os.makedirs(folder)\n        response = await pyfetch(url)\n        with open(os.path.join(i),'w') as f:\n            f.write(await response.string())\n            f.close()\n\nawait download_qtview()\nawait piplite.install(['ipywidgets','ipympl'])\n\nfrom qtview import *\n%matplotlib widget",
      "metadata": {
        "trusted": true
      },
      "execution_count": null,
      "outputs": [],
      "id": "6c5da7aa-5954-487e-988b-b2e09fb22a95"
    },
    {
      "cell_type": "markdown",
      "source": "# Interactive plot",
      "metadata": {
        "tags": []
      },
      "id": "dcde87fe-f733-45e1-8477-63544d5b6986"
    },
    {
      "cell_type": "code",
      "source": "# See more cells below for uploading data files\np = interact.Player()",
      "metadata": {
        "trusted": true
      },
      "execution_count": null,
      "outputs": [],
      "id": "f4c7bf23-2204-481e-8f3a-3cd3365134bc"
    },
    {
      "cell_type": "markdown",
      "source": "## Upload local files by drag and drop\n\n1. Drag and drop files to the file explorer on the left (you may need to click the \"folder\" icon).\n\n2. Update and run the following cell to load the file into the virtual file system.",
      "metadata": {},
      "id": "bb47f481-9947-4770-b835-93b6fa323037"
    },
    {
      "cell_type": "code",
      "source": "path = ''\nawait jupyterlitetools.browser_to_mem(b_path=path,mem_path=path,overwrite=True)",
      "metadata": {
        "trusted": true
      },
      "execution_count": null,
      "outputs": [],
      "id": "0c93c0e9-8b2d-4e5c-bd92-7b08f0d7166a"
    },
    {
      "cell_type": "markdown",
      "source": "## Upload files from the Internet\n\n1. If the file is not GitHub: the fetch may failed due to the CORS mechanism. If so, use a proxy.\n    1.1 Go to \"https://cors-anywhere.herokuapp.com/\" and click the button. Add \"https://cors-anywhere.herokuapp.com/\" before your url.\n2. Update and run the following cell to load the file into the virtual file system.",
      "metadata": {},
      "id": "065e7bdc-55cf-4dd8-b645-3a42784fdd6b"
    },
    {
      "cell_type": "code",
      "source": "# url_proxy = \"https://cors-anywhere.herokuapp.com/\"\n# url = 'https://arxiv.org/src/1904.05354v1/anc/experimental_data/fig2a.mtx'\n# url = url_proxy + url\n# filename = os.path.split(url)[1]\n# await jupyterlitetools.url_to_mem(url=url,mem_path=filename,overwrite=True)",
      "metadata": {
        "trusted": true
      },
      "execution_count": null,
      "outputs": [],
      "id": "ebe00737-40aa-4bcc-adff-66bb82161bc4"
    },
    {
      "cell_type": "markdown",
      "source": "# Static plot",
      "metadata": {},
      "id": "133edbfa-76d8-40cf-8ad2-fdae39c970f3"
    },
    {
      "cell_type": "code",
      "source": "# %matplotlib inline\n# import matplotlib.pylab as plt\n\n# fpath = \"./test.dat\"\n# fig, ax = plt.subplots(figsize=(4,3))\n\n# def foo(d):# data processing function, return [X,Y,Z]\n#     # d = operation.yderiv(d)\n#     return d\n\n# kw = {'cook':foo,\n#       'cols': [0,1,2],# which columns are used, can be more than 3\n#       'labels':['x',',y','z'],\n#       'fig': fig, 'ax': ax,\n#       'gamma':-30, 'vmin':0, 'vmax':0.4,\n#      }\n\n# plot.plot(fpath,**kw)",
      "metadata": {
        "trusted": true
      },
      "execution_count": null,
      "outputs": [],
      "id": "731c4b3c-ecd9-4b6f-974d-943b3873578a"
    },
    {
      "cell_type": "code",
      "source": "# Update files and reload modules. For debugging.\n# import importlib,qtview\n# for i in qtview.__all__:\n#     print(i)\n#     fpath = f'qtview/{i}.py'\n#     await jupyterlitetools.browser_to_mem(fpath,fpath,overwrite=True)\n#     importlib.reload(sys.modules[f'qtview.{i}'])",
      "metadata": {
        "trusted": true
      },
      "execution_count": null,
      "outputs": [],
      "id": "bf207104-ed3e-41a3-afae-254ec7693942"
    }
  ]
}