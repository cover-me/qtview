{
  "metadata": {
    "kernelspec": {
      "name": "python",
      "display_name": "Pyolite",
      "language": "python"
    },
    "language_info": {
      "codemirror_mode": {
        "name": "python",
        "version": 3
      },
      "file_extension": ".py",
      "mimetype": "text/x-python",
      "name": "python",
      "nbconvert_exporter": "python",
      "pygments_lexer": "ipython3",
      "version": "3.8"
    }
  },
  "nbformat_minor": 5,
  "nbformat": 4,
  "cells": [
    {
      "cell_type": "markdown",
      "source": "Description: Upload, select, and plot data interactively.\n\nHow to use: Run all cells. ",
      "metadata": {},
      "id": "baee5098-872c-492a-a9ca-5d7209dc3ce7"
    },
    {
      "cell_type": "code",
      "source": "# Download qtview files to the kernel (in memory) if in JupyterLite\nimport sys, scipy\nif 'pyolite' in sys.modules:\n    from pyodide.http import pyfetch\n    exec(await (await pyfetch(\"https://raw.githubusercontent.com/cover-me/qtview/main/content/utils/download_qtview.py\")).string())\n    await download_qtview()",
      "metadata": {
        "trusted": true
      },
      "execution_count": null,
      "outputs": [],
      "id": "f2d518f1-a9da-4de4-aee8-fd458f36f6ee"
    },
    {
      "cell_type": "code",
      "source": "from qtview import interact\nfrom utils import jupyterlitetools\n%matplotlib widget",
      "metadata": {
        "trusted": true
      },
      "execution_count": null,
      "outputs": [],
      "id": "334c3877-bf0e-4603-bfff-a04e5ee35f60"
    },
    {
      "cell_type": "markdown",
      "source": "# Interactive plot",
      "metadata": {
        "tags": []
      },
      "id": "dcde87fe-f733-45e1-8477-63544d5b6986"
    },
    {
      "cell_type": "markdown",
      "source": "The program automatically detects data files in \"current working folder\". You can upload your files and re-run this cell to refresh the list.",
      "metadata": {},
      "id": "77291e40-02ed-4e15-ae93-81251c102fef"
    },
    {
      "cell_type": "code",
      "source": "# See more cells below for uploading data files\np = interact.Player()",
      "metadata": {
        "trusted": true
      },
      "execution_count": null,
      "outputs": [],
      "id": "f4c7bf23-2204-481e-8f3a-3cd3365134bc"
    },
    {
      "cell_type": "markdown",
      "source": "# Download files in JupyterLite\n\nWe can download files in the file browser (on the left).\n\nHowever, files in the file browser and files in the kernel do not sync in JupyterLite at this moment. We need to copy files from the kernel to the file browser.",
      "metadata": {},
      "id": "bb47f481-9947-4770-b835-93b6fa323037"
    },
    {
      "cell_type": "code",
      "source": "# import os\n# folder = p.dd_folder.value\n# exts = ['.npy','.dat','.mtx']\n# # we need to remove './' in the path\n# file_list = [os.path.relpath(os.path.join(folder,i)) for i in os.listdir(folder) if i[-4:] in exts]\n# for i in file_list:\n#     print(i)\n#     await jupyterlitetools.mem_to_browser(mem_path=i,b_path=i,overwrite=True)",
      "metadata": {
        "trusted": true
      },
      "execution_count": null,
      "outputs": [],
      "id": "0c93c0e9-8b2d-4e5c-bd92-7b08f0d7166a"
    },
    {
      "cell_type": "code",
      "source": "",
      "metadata": {},
      "execution_count": null,
      "outputs": [],
      "id": "667cb16b-0c65-4851-9a45-4a1ed9449d8e"
    }
  ]
}