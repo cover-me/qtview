{
  "metadata": {
    "language_info": {
      "codemirror_mode": {
        "name": "python",
        "version": 3
      },
      "file_extension": ".py",
      "mimetype": "text/x-python",
      "name": "python",
      "nbconvert_exporter": "python",
      "pygments_lexer": "ipython3",
      "version": "3.8"
    },
    "kernelspec": {
      "name": "python",
      "display_name": "Pyolite",
      "language": "python"
    }
  },
  "nbformat_minor": 4,
  "nbformat": 4,
  "cells": [
    {
      "cell_type": "code",
      "source": "# Download qtview files to the kernel (in memory) if in JupyterLite\nimport sys,os,zipfile\nif 'pyolite' in sys.modules:\n    from pyodide.http import pyfetch\n    exec(await (await pyfetch(\"https://raw.githubusercontent.com/cover-me/qtview/main/content/utils/download_qtview.py\")).string())\n    await download_qtview()",
      "metadata": {
        "trusted": true
      },
      "execution_count": null,
      "outputs": []
    },
    {
      "cell_type": "code",
      "source": "from qtview import *\nimport utils.jupyterlitetools as jpltools\n%matplotlib widget",
      "metadata": {
        "trusted": true
      },
      "execution_count": null,
      "outputs": []
    },
    {
      "cell_type": "code",
      "source": "record_id = 4446186\nfile_name = 'Paper Figures.zip'\nawait jpltools.zenodo_downloader(record_id,file_name)",
      "metadata": {
        "trusted": true
      },
      "execution_count": null,
      "outputs": []
    },
    {
      "cell_type": "code",
      "source": "zf = zipfile.ZipFile(file_name)\ndatafile_list = [f'{file_name}/{i}' for i in zf.namelist() if os.path.splitext(i)[1] in ['.npy','.dat','.mtx']]",
      "metadata": {
        "trusted": true
      },
      "execution_count": null,
      "outputs": []
    },
    {
      "cell_type": "code",
      "source": "p = interact.Player(file_list=datafile_list)",
      "metadata": {
        "trusted": true
      },
      "execution_count": null,
      "outputs": []
    }
  ]
}