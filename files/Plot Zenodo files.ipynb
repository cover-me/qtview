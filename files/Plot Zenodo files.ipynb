{
  "metadata": {
    "language_info": {
      "codemirror_mode": {
        "name": "python",
        "version": 3
      },
      "file_extension": ".py",
      "mimetype": "text/x-python",
      "name": "python",
      "nbconvert_exporter": "python",
      "pygments_lexer": "ipython3",
      "version": "3.8"
    },
    "kernelspec": {
      "name": "python",
      "display_name": "Pyolite",
      "language": "python"
    }
  },
  "nbformat_minor": 4,
  "nbformat": 4,
  "cells": [
    {
      "cell_type": "code",
      "source": "# Load modules\n# in JupyterLite\n\nimport os,sys,piplite\nfrom pyodide.http import pyfetch\n\nsys.path.append('./')\n\nasync def download_qtview():\n    url_base = 'https://raw.githubusercontent.com/cover-me/qtview/main/content/'\n    file_list = ['qtview/__init__.py','qtview/data.py','qtview/interact.py',\n                 'qtview/operation.py','qtview/plot.py','qtview/jupyterlitetools.py','test.dat']\n    for i in file_list:\n        # print(i)\n        url = url_base + i\n        folder, file_name = os.path.split(i)\n        if folder and not os.path.exists(folder): os.makedirs(folder)\n        response = await pyfetch(url)\n        with open(os.path.join(i),'w') as f:\n            f.write(await response.string())\n            f.close()\n\nawait download_qtview()\nawait piplite.install(['ipywidgets','ipympl'])\n\nfrom qtview import *\n%matplotlib widget",
      "metadata": {
        "trusted": true
      },
      "execution_count": null,
      "outputs": []
    },
    {
      "cell_type": "code",
      "source": "url = 'https://zenodo.org/api/records/4446186'\nfile_name = 'Paper Figures.zip'\nresp = await pyfetch(url)\nrepo_meta = await resp.json()\nfor i in repo_meta['files']:\n    if i['key'] == file_name:\n        file_dict = i\nurl = file_dict['links']['self']\nprint(f'Size: {file_dict[\"size\"]/1e6} MB, downloading...')\nawait jupyterlitetools.url_to_mem(url,file_name,overwrite=True)\nprint('Done!')",
      "metadata": {
        "trusted": true
      },
      "execution_count": null,
      "outputs": []
    },
    {
      "cell_type": "code",
      "source": "import zipfile\nzf = zipfile.ZipFile(file_name)\nzf_name_list = [f'{file_name}/{i}' for i in zf.namelist() if os.path.splitext(i)[1] in ['.npy','.dat','.mtx']]\nzf_name_list[0]",
      "metadata": {
        "trusted": true
      },
      "execution_count": null,
      "outputs": []
    },
    {
      "cell_type": "code",
      "source": "p = interact.Player()",
      "metadata": {
        "trusted": true
      },
      "execution_count": null,
      "outputs": []
    },
    {
      "cell_type": "code",
      "source": "p.dd_file_path.options = zf_name_list",
      "metadata": {
        "trusted": true
      },
      "execution_count": null,
      "outputs": []
    },
    {
      "cell_type": "code",
      "source": "",
      "metadata": {},
      "execution_count": null,
      "outputs": []
    }
  ]
}
